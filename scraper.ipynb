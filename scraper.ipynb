{
 "cells": [
  {
   "cell_type": "code",
   "execution_count": 1,
   "metadata": {},
   "outputs": [],
   "source": [
    "from bs4 import BeautifulSoup\n",
    "import requests\n",
    "import re\n",
    "import pandas as pd"
   ]
  },
  {
   "cell_type": "code",
   "execution_count": 2,
   "metadata": {},
   "outputs": [],
   "source": [
    "url = 'https://witcher.fandom.com/wiki/Elder_Speech'\n",
    "page = requests.get(url)\n",
    "soup = BeautifulSoup(page.content, 'html.parser')"
   ]
  },
  {
   "cell_type": "code",
   "execution_count": 3,
   "metadata": {},
   "outputs": [],
   "source": [
    "elder_speech_words = soup.select('table.fandom-table td:nth-child(1)')\n",
    "english_words = soup.select('table.fandom-table td:nth-child(2)')"
   ]
  },
  {
   "cell_type": "code",
   "execution_count": 4,
   "metadata": {},
   "outputs": [],
   "source": [
    "parse = lambda word: re.sub(r'\\[[^\\]]*\\]|\\([^)]*\\)', '', word.text.strip())\n",
    "\n",
    "elder_speech_words = [parse(word) for word in elder_speech_words]\n",
    "english_words = [parse(word) for word in english_words]"
   ]
  },
  {
   "cell_type": "code",
   "execution_count": 5,
   "metadata": {},
   "outputs": [
    {
     "name": "stdout",
     "output_type": "stream",
     "text": [
      "a'baeth         ->       kiss, to kiss\n",
      "aark, aark      ->       phonetic presentation of the sound ravens/crows make\n",
      "abb             ->       mouth  \n",
      "addan, adan     ->       dance; dancer; dancing\n",
      "adhart          ->       forward\n",
      "aé              ->       first person singular subject personal pronoun I \n",
      "aecáemm         ->       to follow\n",
      "aedd            ->       shard, piece\n",
      "aef             ->       to have, has\n",
      "aefder          ->       later, after\n"
     ]
    }
   ],
   "source": [
    "for i in range(10):\n",
    "    print(f'{elder_speech_words[i]:<15} ->       {english_words[i]}')"
   ]
  },
  {
   "cell_type": "code",
   "execution_count": 6,
   "metadata": {},
   "outputs": [
    {
     "data": {
      "text/html": [
       "<div>\n",
       "<style scoped>\n",
       "    .dataframe tbody tr th:only-of-type {\n",
       "        vertical-align: middle;\n",
       "    }\n",
       "\n",
       "    .dataframe tbody tr th {\n",
       "        vertical-align: top;\n",
       "    }\n",
       "\n",
       "    .dataframe thead th {\n",
       "        text-align: right;\n",
       "    }\n",
       "</style>\n",
       "<table border=\"1\" class=\"dataframe\">\n",
       "  <thead>\n",
       "    <tr style=\"text-align: right;\">\n",
       "      <th></th>\n",
       "      <th>elder_speech</th>\n",
       "      <th>english</th>\n",
       "    </tr>\n",
       "  </thead>\n",
       "  <tbody>\n",
       "    <tr>\n",
       "      <th>0</th>\n",
       "      <td>a'baeth</td>\n",
       "      <td>kiss, to kiss</td>\n",
       "    </tr>\n",
       "    <tr>\n",
       "      <th>1</th>\n",
       "      <td>aark, aark</td>\n",
       "      <td>phonetic presentation of the sound ravens/crow...</td>\n",
       "    </tr>\n",
       "    <tr>\n",
       "      <th>2</th>\n",
       "      <td>abb</td>\n",
       "      <td>mouth</td>\n",
       "    </tr>\n",
       "    <tr>\n",
       "      <th>3</th>\n",
       "      <td>addan, adan</td>\n",
       "      <td>dance; dancer; dancing</td>\n",
       "    </tr>\n",
       "    <tr>\n",
       "      <th>4</th>\n",
       "      <td>adhart</td>\n",
       "      <td>forward</td>\n",
       "    </tr>\n",
       "  </tbody>\n",
       "</table>\n",
       "</div>"
      ],
      "text/plain": [
       "  elder_speech                                            english\n",
       "0      a'baeth                                      kiss, to kiss\n",
       "1   aark, aark  phonetic presentation of the sound ravens/crow...\n",
       "2          abb                                            mouth  \n",
       "3  addan, adan                             dance; dancer; dancing\n",
       "4       adhart                                            forward"
      ]
     },
     "execution_count": 6,
     "metadata": {},
     "output_type": "execute_result"
    }
   ],
   "source": [
    "# Put the words into a dataframe\n",
    "translation = pd.DataFrame({'elder_speech': elder_speech_words, 'english': english_words})\n",
    "translation.head()"
   ]
  },
  {
   "cell_type": "code",
   "execution_count": 7,
   "metadata": {},
   "outputs": [
    {
     "data": {
      "text/html": [
       "<div>\n",
       "<style scoped>\n",
       "    .dataframe tbody tr th:only-of-type {\n",
       "        vertical-align: middle;\n",
       "    }\n",
       "\n",
       "    .dataframe tbody tr th {\n",
       "        vertical-align: top;\n",
       "    }\n",
       "\n",
       "    .dataframe thead th {\n",
       "        text-align: right;\n",
       "    }\n",
       "</style>\n",
       "<table border=\"1\" class=\"dataframe\">\n",
       "  <thead>\n",
       "    <tr style=\"text-align: right;\">\n",
       "      <th></th>\n",
       "      <th>elder_speech</th>\n",
       "      <th>english</th>\n",
       "    </tr>\n",
       "  </thead>\n",
       "  <tbody>\n",
       "    <tr>\n",
       "      <th>240</th>\n",
       "      <td>zuirseime</td>\n",
       "      <td>Chaos</td>\n",
       "    </tr>\n",
       "    <tr>\n",
       "      <th>241</th>\n",
       "      <td>zvaere</td>\n",
       "      <td>swear</td>\n",
       "    </tr>\n",
       "    <tr>\n",
       "      <th>242</th>\n",
       "      <td>'ere</td>\n",
       "      <td>here</td>\n",
       "    </tr>\n",
       "    <tr>\n",
       "      <th>243</th>\n",
       "      <td>Aedd Gynvael</td>\n",
       "      <td>Shard of Ice</td>\n",
       "    </tr>\n",
       "    <tr>\n",
       "      <th>244</th>\n",
       "      <td>Aen N'og Mab Taedh'morc</td>\n",
       "      <td>\"Practices for a Young Bard\"</td>\n",
       "    </tr>\n",
       "  </tbody>\n",
       "</table>\n",
       "</div>"
      ],
      "text/plain": [
       "                elder_speech                       english\n",
       "240                zuirseime                         Chaos\n",
       "241                   zvaere                        swear \n",
       "242                     'ere                         here \n",
       "243             Aedd Gynvael                  Shard of Ice\n",
       "244  Aen N'og Mab Taedh'morc  \"Practices for a Young Bard\""
      ]
     },
     "execution_count": 7,
     "metadata": {},
     "output_type": "execute_result"
    }
   ],
   "source": [
    "# There are 243 words in the elder speech the rest are names or phrases\n",
    "translation[240:245]"
   ]
  },
  {
   "cell_type": "code",
   "execution_count": 8,
   "metadata": {},
   "outputs": [
    {
     "data": {
      "text/html": [
       "<div>\n",
       "<style scoped>\n",
       "    .dataframe tbody tr th:only-of-type {\n",
       "        vertical-align: middle;\n",
       "    }\n",
       "\n",
       "    .dataframe tbody tr th {\n",
       "        vertical-align: top;\n",
       "    }\n",
       "\n",
       "    .dataframe thead th {\n",
       "        text-align: right;\n",
       "    }\n",
       "</style>\n",
       "<table border=\"1\" class=\"dataframe\">\n",
       "  <thead>\n",
       "    <tr style=\"text-align: right;\">\n",
       "      <th></th>\n",
       "      <th>elder_speech</th>\n",
       "      <th>english</th>\n",
       "    </tr>\n",
       "  </thead>\n",
       "  <tbody>\n",
       "    <tr>\n",
       "      <th>238</th>\n",
       "      <td>zael</td>\n",
       "      <td>to rise</td>\n",
       "    </tr>\n",
       "    <tr>\n",
       "      <th>239</th>\n",
       "      <td>zireael</td>\n",
       "      <td>swallow</td>\n",
       "    </tr>\n",
       "    <tr>\n",
       "      <th>240</th>\n",
       "      <td>zuirseime</td>\n",
       "      <td>Chaos</td>\n",
       "    </tr>\n",
       "    <tr>\n",
       "      <th>241</th>\n",
       "      <td>zvaere</td>\n",
       "      <td>swear</td>\n",
       "    </tr>\n",
       "    <tr>\n",
       "      <th>242</th>\n",
       "      <td>'ere</td>\n",
       "      <td>here</td>\n",
       "    </tr>\n",
       "  </tbody>\n",
       "</table>\n",
       "</div>"
      ],
      "text/plain": [
       "    elder_speech   english\n",
       "238         zael   to rise\n",
       "239      zireael  swallow \n",
       "240    zuirseime     Chaos\n",
       "241       zvaere    swear \n",
       "242         'ere     here "
      ]
     },
     "execution_count": 8,
     "metadata": {},
     "output_type": "execute_result"
    }
   ],
   "source": [
    "translation.drop(translation.index[243:], inplace=True)\n",
    "\n",
    "# Now dataframe ends at the last word which is `'ere`\n",
    "translation.tail()"
   ]
  },
  {
   "cell_type": "code",
   "execution_count": 9,
   "metadata": {},
   "outputs": [],
   "source": [
    "# Some elder speech words have many meanings in english so we will split them into separate rows so that each word has only one meaning\n",
    "# Most common separator is a , or ;\n",
    "translation['english'] = translation['english'].str.replace(';', ',')"
   ]
  },
  {
   "cell_type": "code",
   "execution_count": 10,
   "metadata": {},
   "outputs": [
    {
     "data": {
      "text/html": [
       "<div>\n",
       "<style scoped>\n",
       "    .dataframe tbody tr th:only-of-type {\n",
       "        vertical-align: middle;\n",
       "    }\n",
       "\n",
       "    .dataframe tbody tr th {\n",
       "        vertical-align: top;\n",
       "    }\n",
       "\n",
       "    .dataframe thead th {\n",
       "        text-align: right;\n",
       "    }\n",
       "</style>\n",
       "<table border=\"1\" class=\"dataframe\">\n",
       "  <thead>\n",
       "    <tr style=\"text-align: right;\">\n",
       "      <th></th>\n",
       "      <th>elder_speech</th>\n",
       "      <th>english</th>\n",
       "    </tr>\n",
       "  </thead>\n",
       "  <tbody>\n",
       "    <tr>\n",
       "      <th>0</th>\n",
       "      <td>a'baeth</td>\n",
       "      <td>[kiss,  to kiss]</td>\n",
       "    </tr>\n",
       "    <tr>\n",
       "      <th>1</th>\n",
       "      <td>aark, aark</td>\n",
       "      <td>[phonetic presentation of the sound ravens/cro...</td>\n",
       "    </tr>\n",
       "    <tr>\n",
       "      <th>2</th>\n",
       "      <td>abb</td>\n",
       "      <td>[mouth  ]</td>\n",
       "    </tr>\n",
       "    <tr>\n",
       "      <th>3</th>\n",
       "      <td>addan, adan</td>\n",
       "      <td>[dance,  dancer,  dancing]</td>\n",
       "    </tr>\n",
       "    <tr>\n",
       "      <th>4</th>\n",
       "      <td>adhart</td>\n",
       "      <td>[forward]</td>\n",
       "    </tr>\n",
       "    <tr>\n",
       "      <th>5</th>\n",
       "      <td>aé</td>\n",
       "      <td>[first person singular subject personal pronou...</td>\n",
       "    </tr>\n",
       "    <tr>\n",
       "      <th>6</th>\n",
       "      <td>aecáemm</td>\n",
       "      <td>[to follow]</td>\n",
       "    </tr>\n",
       "    <tr>\n",
       "      <th>7</th>\n",
       "      <td>aedd</td>\n",
       "      <td>[shard,  piece]</td>\n",
       "    </tr>\n",
       "    <tr>\n",
       "      <th>8</th>\n",
       "      <td>aef</td>\n",
       "      <td>[to have,  has]</td>\n",
       "    </tr>\n",
       "    <tr>\n",
       "      <th>9</th>\n",
       "      <td>aefder</td>\n",
       "      <td>[later,  after]</td>\n",
       "    </tr>\n",
       "  </tbody>\n",
       "</table>\n",
       "</div>"
      ],
      "text/plain": [
       "  elder_speech                                            english\n",
       "0      a'baeth                                   [kiss,  to kiss]\n",
       "1   aark, aark  [phonetic presentation of the sound ravens/cro...\n",
       "2          abb                                          [mouth  ]\n",
       "3  addan, adan                         [dance,  dancer,  dancing]\n",
       "4       adhart                                          [forward]\n",
       "5           aé  [first person singular subject personal pronou...\n",
       "6      aecáemm                                        [to follow]\n",
       "7         aedd                                    [shard,  piece]\n",
       "8          aef                                    [to have,  has]\n",
       "9       aefder                                    [later,  after]"
      ]
     },
     "execution_count": 10,
     "metadata": {},
     "output_type": "execute_result"
    }
   ],
   "source": [
    "translation['english'] = translation['english'].str.split(',')\n",
    "translation.head(10)"
   ]
  },
  {
   "cell_type": "code",
   "execution_count": 11,
   "metadata": {},
   "outputs": [
    {
     "data": {
      "text/html": [
       "<div>\n",
       "<style scoped>\n",
       "    .dataframe tbody tr th:only-of-type {\n",
       "        vertical-align: middle;\n",
       "    }\n",
       "\n",
       "    .dataframe tbody tr th {\n",
       "        vertical-align: top;\n",
       "    }\n",
       "\n",
       "    .dataframe thead th {\n",
       "        text-align: right;\n",
       "    }\n",
       "</style>\n",
       "<table border=\"1\" class=\"dataframe\">\n",
       "  <thead>\n",
       "    <tr style=\"text-align: right;\">\n",
       "      <th></th>\n",
       "      <th>elder_speech</th>\n",
       "      <th>english</th>\n",
       "    </tr>\n",
       "  </thead>\n",
       "  <tbody>\n",
       "    <tr>\n",
       "      <th>0</th>\n",
       "      <td>a'baeth</td>\n",
       "      <td>kiss</td>\n",
       "    </tr>\n",
       "    <tr>\n",
       "      <th>1</th>\n",
       "      <td>a'baeth</td>\n",
       "      <td>to kiss</td>\n",
       "    </tr>\n",
       "    <tr>\n",
       "      <th>2</th>\n",
       "      <td>aark, aark</td>\n",
       "      <td>phonetic presentation of the sound ravens/crow...</td>\n",
       "    </tr>\n",
       "    <tr>\n",
       "      <th>3</th>\n",
       "      <td>abb</td>\n",
       "      <td>mouth</td>\n",
       "    </tr>\n",
       "    <tr>\n",
       "      <th>4</th>\n",
       "      <td>addan, adan</td>\n",
       "      <td>dance</td>\n",
       "    </tr>\n",
       "    <tr>\n",
       "      <th>5</th>\n",
       "      <td>addan, adan</td>\n",
       "      <td>dancer</td>\n",
       "    </tr>\n",
       "    <tr>\n",
       "      <th>6</th>\n",
       "      <td>addan, adan</td>\n",
       "      <td>dancing</td>\n",
       "    </tr>\n",
       "    <tr>\n",
       "      <th>7</th>\n",
       "      <td>adhart</td>\n",
       "      <td>forward</td>\n",
       "    </tr>\n",
       "    <tr>\n",
       "      <th>8</th>\n",
       "      <td>aé</td>\n",
       "      <td>first person singular subject personal pronoun I</td>\n",
       "    </tr>\n",
       "    <tr>\n",
       "      <th>9</th>\n",
       "      <td>aecáemm</td>\n",
       "      <td>to follow</td>\n",
       "    </tr>\n",
       "  </tbody>\n",
       "</table>\n",
       "</div>"
      ],
      "text/plain": [
       "  elder_speech                                            english\n",
       "0      a'baeth                                               kiss\n",
       "1      a'baeth                                            to kiss\n",
       "2   aark, aark  phonetic presentation of the sound ravens/crow...\n",
       "3          abb                                            mouth  \n",
       "4  addan, adan                                              dance\n",
       "5  addan, adan                                             dancer\n",
       "6  addan, adan                                            dancing\n",
       "7       adhart                                            forward\n",
       "8           aé  first person singular subject personal pronoun I \n",
       "9      aecáemm                                          to follow"
      ]
     },
     "execution_count": 11,
     "metadata": {},
     "output_type": "execute_result"
    }
   ],
   "source": [
    "translation = translation.explode('english')\n",
    "translation.reset_index(drop=True, inplace=True)\n",
    "translation.head(10)"
   ]
  },
  {
   "cell_type": "code",
   "execution_count": 12,
   "metadata": {},
   "outputs": [],
   "source": [
    "# Do the same with the elder speech words\n",
    "translation['elder_speech'] = translation['elder_speech'].str.replace(';', ',')\n",
    "translation['elder_speech'] = translation['elder_speech'].str.split(',')\n",
    "translation = translation.explode('elder_speech')"
   ]
  },
  {
   "cell_type": "code",
   "execution_count": 13,
   "metadata": {},
   "outputs": [],
   "source": [
    "# Strip spaces\n",
    "translation['english'] = translation['english'].str.strip()\n",
    "translation['elder_speech'] = translation['elder_speech'].str.strip()"
   ]
  },
  {
   "cell_type": "code",
   "execution_count": null,
   "metadata": {},
   "outputs": [],
   "source": [
    "# Remove duplicates\n",
    "translation.drop_duplicates(subset=['elder_speech', 'english']).reset_index(drop=True)"
   ]
  },
  {
   "cell_type": "code",
   "execution_count": 14,
   "metadata": {},
   "outputs": [],
   "source": [
    "# Save translation to csv\n",
    "translation.to_csv('elder_speech.csv', index=False)"
   ]
  }
 ],
 "metadata": {
  "kernelspec": {
   "display_name": "Python 3",
   "language": "python",
   "name": "python3"
  },
  "language_info": {
   "codemirror_mode": {
    "name": "ipython",
    "version": 3
   },
   "file_extension": ".py",
   "mimetype": "text/x-python",
   "name": "python",
   "nbconvert_exporter": "python",
   "pygments_lexer": "ipython3",
   "version": "3.11.3"
  },
  "orig_nbformat": 4
 },
 "nbformat": 4,
 "nbformat_minor": 2
}
