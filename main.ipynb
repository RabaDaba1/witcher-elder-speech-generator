{
 "cells": [
  {
   "cell_type": "code",
   "execution_count": 1,
   "metadata": {},
   "outputs": [],
   "source": [
    "import numpy as np\n",
    "import pandas as pd\n",
    "import tensorflow as tf\n",
    "from tqdm import tqdm"
   ]
  },
  {
   "cell_type": "markdown",
   "metadata": {},
   "source": [
    "## Load data"
   ]
  },
  {
   "cell_type": "code",
   "execution_count": 2,
   "metadata": {},
   "outputs": [],
   "source": [
    "translation = pd.read_csv('data/elder_speech.csv')\n",
    "sentences = pd.read_csv('data/sentences.csv')"
   ]
  },
  {
   "cell_type": "code",
   "execution_count": 3,
   "metadata": {},
   "outputs": [
    {
     "data": {
      "text/html": [
       "<div>\n",
       "<style scoped>\n",
       "    .dataframe tbody tr th:only-of-type {\n",
       "        vertical-align: middle;\n",
       "    }\n",
       "\n",
       "    .dataframe tbody tr th {\n",
       "        vertical-align: top;\n",
       "    }\n",
       "\n",
       "    .dataframe thead th {\n",
       "        text-align: right;\n",
       "    }\n",
       "</style>\n",
       "<table border=\"1\" class=\"dataframe\">\n",
       "  <thead>\n",
       "    <tr style=\"text-align: right;\">\n",
       "      <th></th>\n",
       "      <th>elder_speech</th>\n",
       "      <th>english</th>\n",
       "    </tr>\n",
       "  </thead>\n",
       "  <tbody>\n",
       "    <tr>\n",
       "      <th>0</th>\n",
       "      <td>Aé esse aecáemm taedh.</td>\n",
       "      <td>I will follow you.</td>\n",
       "    </tr>\n",
       "    <tr>\n",
       "      <th>1</th>\n",
       "      <td>Caed ess cáelm an hlaith ess elaine.</td>\n",
       "      <td>The forest is peaceful and the lady is beautiful.</td>\n",
       "    </tr>\n",
       "    <tr>\n",
       "      <th>2</th>\n",
       "      <td>Aevon ess cáelm.</td>\n",
       "      <td>The river is calm.</td>\n",
       "    </tr>\n",
       "    <tr>\n",
       "      <th>3</th>\n",
       "      <td>Aé mire gwyn blath.</td>\n",
       "      <td>I see the white flower.</td>\n",
       "    </tr>\n",
       "    <tr>\n",
       "      <th>4</th>\n",
       "      <td>An luned ess og.</td>\n",
       "      <td>A girl is young.</td>\n",
       "    </tr>\n",
       "  </tbody>\n",
       "</table>\n",
       "</div>"
      ],
      "text/plain": [
       "                           elder_speech  \\\n",
       "0                Aé esse aecáemm taedh.   \n",
       "1  Caed ess cáelm an hlaith ess elaine.   \n",
       "2                      Aevon ess cáelm.   \n",
       "3                   Aé mire gwyn blath.   \n",
       "4                      An luned ess og.   \n",
       "\n",
       "                                             english  \n",
       "0                                 I will follow you.  \n",
       "1  The forest is peaceful and the lady is beautiful.  \n",
       "2                                 The river is calm.  \n",
       "3                            I see the white flower.  \n",
       "4                                   A girl is young.  "
      ]
     },
     "execution_count": 3,
     "metadata": {},
     "output_type": "execute_result"
    }
   ],
   "source": [
    "sentences.head()"
   ]
  },
  {
   "cell_type": "code",
   "execution_count": 4,
   "metadata": {},
   "outputs": [],
   "source": [
    "elder_speech = sentences['elder_speech']"
   ]
  },
  {
   "cell_type": "markdown",
   "metadata": {},
   "source": [
    "## Preprocess"
   ]
  },
  {
   "cell_type": "code",
   "execution_count": 5,
   "metadata": {},
   "outputs": [],
   "source": [
    "# Get unique characters\n",
    "characters = list(set(elder_speech.apply(lambda sentence: list(sentence)).sum()))\n",
    "vocab_size = len(characters)"
   ]
  },
  {
   "cell_type": "code",
   "execution_count": 6,
   "metadata": {},
   "outputs": [
    {
     "data": {
      "text/plain": [
       "51"
      ]
     },
     "execution_count": 6,
     "metadata": {},
     "output_type": "execute_result"
    }
   ],
   "source": [
    "vocab_size"
   ]
  },
  {
   "cell_type": "code",
   "execution_count": 7,
   "metadata": {},
   "outputs": [],
   "source": [
    "# Tokenize characters\n",
    "MAX_SEQENCE_LENGTH = elder_speech.apply(lambda sentence: len(sentence)).max()\n",
    "\n",
    "sequences = []\n",
    "for sentence in elder_speech.values:\n",
    "    sequence = []\n",
    "    for character in sentence:\n",
    "        sequence.append(characters.index(character))\n",
    "    sequences.append(sequence)"
   ]
  },
  {
   "cell_type": "code",
   "execution_count": 8,
   "metadata": {},
   "outputs": [
    {
     "data": {
      "text/plain": [
       "[27,\n",
       " 34,\n",
       " 17,\n",
       " 35,\n",
       " 22,\n",
       " 22,\n",
       " 35,\n",
       " 17,\n",
       " 18,\n",
       " 35,\n",
       " 38,\n",
       " 19,\n",
       " 35,\n",
       " 11,\n",
       " 11,\n",
       " 17,\n",
       " 39,\n",
       " 18,\n",
       " 35,\n",
       " 40,\n",
       " 45,\n",
       " 8]"
      ]
     },
     "execution_count": 8,
     "metadata": {},
     "output_type": "execute_result"
    }
   ],
   "source": [
    "sequences[0]"
   ]
  },
  {
   "cell_type": "code",
   "execution_count": 9,
   "metadata": {},
   "outputs": [],
   "source": [
    "# Create n-gram sequences\n",
    "n_gram_sequences = []\n",
    "for sequence in sequences:\n",
    "    for i in range(len(sequence)-1):\n",
    "        n_gram_sequences.append(sequence[:i+2])"
   ]
  },
  {
   "cell_type": "code",
   "execution_count": 10,
   "metadata": {},
   "outputs": [],
   "source": [
    "# Pad sequences\n",
    "padded_sequences = tf.keras.preprocessing.sequence.pad_sequences(n_gram_sequences, maxlen=MAX_SEQENCE_LENGTH, padding='pre')"
   ]
  },
  {
   "cell_type": "code",
   "execution_count": 11,
   "metadata": {},
   "outputs": [
    {
     "data": {
      "text/plain": [
       "(3047, 131)"
      ]
     },
     "execution_count": 11,
     "metadata": {},
     "output_type": "execute_result"
    }
   ],
   "source": [
    "padded_sequences.shape"
   ]
  },
  {
   "cell_type": "code",
   "execution_count": 12,
   "metadata": {},
   "outputs": [
    {
     "data": {
      "text/plain": [
       "array([[ 0,  0,  0,  0,  0,  0,  0,  0,  0,  0,  0,  0,  0,  0,  0,  0,\n",
       "         0,  0,  0,  0,  0,  0,  0,  0,  0,  0,  0,  0,  0,  0,  0,  0,\n",
       "         0,  0,  0,  0,  0,  0,  0,  0,  0,  0,  0,  0,  0,  0,  0,  0,\n",
       "         0,  0,  0,  0,  0,  0,  0,  0,  0,  0,  0,  0,  0,  0,  0,  0,\n",
       "         0,  0,  0,  0,  0,  0,  0,  0,  0,  0,  0,  0,  0,  0,  0,  0,\n",
       "         0,  0,  0,  0,  0,  0,  0,  0,  0,  0,  0,  0,  0,  0,  0,  0,\n",
       "         0,  0,  0,  0,  0,  0,  0,  0,  0,  0,  0,  0,  0,  0,  0,  0,\n",
       "         0,  0,  0,  0,  0,  0,  0,  0,  0,  0,  0,  0,  0,  0,  0,  0,\n",
       "         0, 27, 34],\n",
       "       [ 0,  0,  0,  0,  0,  0,  0,  0,  0,  0,  0,  0,  0,  0,  0,  0,\n",
       "         0,  0,  0,  0,  0,  0,  0,  0,  0,  0,  0,  0,  0,  0,  0,  0,\n",
       "         0,  0,  0,  0,  0,  0,  0,  0,  0,  0,  0,  0,  0,  0,  0,  0,\n",
       "         0,  0,  0,  0,  0,  0,  0,  0,  0,  0,  0,  0,  0,  0,  0,  0,\n",
       "         0,  0,  0,  0,  0,  0,  0,  0,  0,  0,  0,  0,  0,  0,  0,  0,\n",
       "         0,  0,  0,  0,  0,  0,  0,  0,  0,  0,  0,  0,  0,  0,  0,  0,\n",
       "         0,  0,  0,  0,  0,  0,  0,  0,  0,  0,  0,  0,  0,  0,  0,  0,\n",
       "         0,  0,  0,  0,  0,  0,  0,  0,  0,  0,  0,  0,  0,  0,  0,  0,\n",
       "        27, 34, 17],\n",
       "       [ 0,  0,  0,  0,  0,  0,  0,  0,  0,  0,  0,  0,  0,  0,  0,  0,\n",
       "         0,  0,  0,  0,  0,  0,  0,  0,  0,  0,  0,  0,  0,  0,  0,  0,\n",
       "         0,  0,  0,  0,  0,  0,  0,  0,  0,  0,  0,  0,  0,  0,  0,  0,\n",
       "         0,  0,  0,  0,  0,  0,  0,  0,  0,  0,  0,  0,  0,  0,  0,  0,\n",
       "         0,  0,  0,  0,  0,  0,  0,  0,  0,  0,  0,  0,  0,  0,  0,  0,\n",
       "         0,  0,  0,  0,  0,  0,  0,  0,  0,  0,  0,  0,  0,  0,  0,  0,\n",
       "         0,  0,  0,  0,  0,  0,  0,  0,  0,  0,  0,  0,  0,  0,  0,  0,\n",
       "         0,  0,  0,  0,  0,  0,  0,  0,  0,  0,  0,  0,  0,  0,  0, 27,\n",
       "        34, 17, 35]], dtype=int32)"
      ]
     },
     "execution_count": 12,
     "metadata": {},
     "output_type": "execute_result"
    }
   ],
   "source": [
    "padded_sequences[:3]"
   ]
  },
  {
   "cell_type": "markdown",
   "metadata": {},
   "source": [
    "## Model"
   ]
  },
  {
   "cell_type": "code",
   "execution_count": 13,
   "metadata": {},
   "outputs": [],
   "source": [
    "X_train = padded_sequences[:, :-1]\n",
    "y_train = tf.keras.utils.to_categorical(padded_sequences[:, -1], num_classes=vocab_size)"
   ]
  },
  {
   "cell_type": "code",
   "execution_count": 43,
   "metadata": {},
   "outputs": [],
   "source": [
    "model = tf.keras.Sequential([\n",
    "    tf.keras.layers.Embedding(vocab_size, 64, input_length=MAX_SEQENCE_LENGTH-1),\n",
    "    tf.keras.layers.Bidirectional(tf.keras.layers.LSTM(128, return_sequences=True)),\n",
    "    tf.keras.layers.Bidirectional(tf.keras.layers.LSTM(128)),\n",
    "    tf.keras.layers.Dense(vocab_size, activation='softmax')\n",
    "])"
   ]
  },
  {
   "cell_type": "code",
   "execution_count": 44,
   "metadata": {},
   "outputs": [],
   "source": [
    "model.compile(loss='categorical_crossentropy', optimizer='adam', metrics=['accuracy'])"
   ]
  },
  {
   "cell_type": "code",
   "execution_count": 62,
   "metadata": {},
   "outputs": [
    {
     "name": "stdout",
     "output_type": "stream",
     "text": [
      "Epoch 1/25\n",
      "96/96 [==============================] - 2s 20ms/step - loss: 0.0794 - accuracy: 0.9767\n",
      "Epoch 2/25\n",
      "96/96 [==============================] - 2s 20ms/step - loss: 0.0481 - accuracy: 0.9816\n",
      "Epoch 3/25\n",
      "96/96 [==============================] - 2s 20ms/step - loss: 0.0442 - accuracy: 0.9813\n",
      "Epoch 4/25\n",
      "96/96 [==============================] - 2s 20ms/step - loss: 0.0428 - accuracy: 0.9800\n",
      "Epoch 5/25\n",
      "96/96 [==============================] - 2s 20ms/step - loss: 0.0415 - accuracy: 0.9826\n",
      "Epoch 6/25\n",
      "96/96 [==============================] - 2s 21ms/step - loss: 0.0406 - accuracy: 0.9810\n",
      "Epoch 7/25\n",
      "96/96 [==============================] - 2s 21ms/step - loss: 0.0403 - accuracy: 0.9826\n",
      "Epoch 8/25\n",
      "96/96 [==============================] - 2s 21ms/step - loss: 0.0423 - accuracy: 0.9803\n",
      "Epoch 9/25\n",
      "96/96 [==============================] - 2s 21ms/step - loss: 0.0401 - accuracy: 0.9797\n",
      "Epoch 10/25\n",
      "96/96 [==============================] - 2s 20ms/step - loss: 0.0395 - accuracy: 0.9819\n",
      "Epoch 11/25\n",
      "96/96 [==============================] - 2s 20ms/step - loss: 0.0403 - accuracy: 0.9816\n",
      "Epoch 12/25\n",
      "96/96 [==============================] - 2s 20ms/step - loss: 0.0396 - accuracy: 0.9810\n",
      "Epoch 13/25\n",
      "96/96 [==============================] - 2s 20ms/step - loss: 0.0394 - accuracy: 0.9819\n",
      "Epoch 14/25\n",
      "96/96 [==============================] - 2s 20ms/step - loss: 0.0394 - accuracy: 0.9793\n",
      "Epoch 15/25\n",
      "96/96 [==============================] - 2s 20ms/step - loss: 0.0394 - accuracy: 0.9823\n",
      "Epoch 16/25\n",
      "96/96 [==============================] - 2s 20ms/step - loss: 0.0394 - accuracy: 0.9800\n",
      "Epoch 17/25\n",
      "96/96 [==============================] - 2s 21ms/step - loss: 0.0400 - accuracy: 0.9800\n",
      "Epoch 18/25\n",
      "96/96 [==============================] - 2s 22ms/step - loss: 0.0387 - accuracy: 0.9793\n",
      "Epoch 19/25\n",
      "96/96 [==============================] - 2s 21ms/step - loss: 0.0389 - accuracy: 0.9806\n",
      "Epoch 20/25\n",
      "96/96 [==============================] - 2s 20ms/step - loss: 0.0389 - accuracy: 0.9806\n",
      "Epoch 21/25\n",
      "96/96 [==============================] - 2s 20ms/step - loss: 0.0396 - accuracy: 0.9806\n",
      "Epoch 22/25\n",
      "96/96 [==============================] - 2s 21ms/step - loss: 0.0386 - accuracy: 0.9810\n",
      "Epoch 23/25\n",
      "96/96 [==============================] - 2s 21ms/step - loss: 0.0403 - accuracy: 0.9790\n",
      "Epoch 24/25\n",
      "96/96 [==============================] - 2s 20ms/step - loss: 0.0390 - accuracy: 0.9803\n",
      "Epoch 25/25\n",
      "96/96 [==============================] - 2s 20ms/step - loss: 0.0385 - accuracy: 0.9803\n"
     ]
    },
    {
     "data": {
      "text/plain": [
       "<keras.callbacks.History at 0x7fa7c082b4f0>"
      ]
     },
     "execution_count": 62,
     "metadata": {},
     "output_type": "execute_result"
    }
   ],
   "source": [
    "model.fit(X_train, y_train, epochs=25, batch_size=32, verbose=1)"
   ]
  },
  {
   "cell_type": "markdown",
   "metadata": {},
   "source": [
    "## Generate the Elder Speech"
   ]
  },
  {
   "cell_type": "code",
   "execution_count": 63,
   "metadata": {},
   "outputs": [
    {
     "name": "stderr",
     "output_type": "stream",
     "text": [
      "100%|██████████| 40/40 [00:01<00:00, 27.17it/s]\n"
     ]
    }
   ],
   "source": [
    "current_sequence = [0]*(MAX_SEQENCE_LENGTH-1)\n",
    "generated_text = ''\n",
    "\n",
    "for i in tqdm(range(40)):\n",
    "    prediction = model.predict(\n",
    "        np.reshape(current_sequence[-MAX_SEQENCE_LENGTH+1:], (1, MAX_SEQENCE_LENGTH-1)),\n",
    "        verbose=0\n",
    "    )\n",
    "    prediction = np.random.choice(range(vocab_size), p=prediction.ravel())\n",
    "    \n",
    "    generated_text += characters[prediction]\n",
    "    \n",
    "    current_sequence.append(prediction)"
   ]
  },
  {
   "cell_type": "code",
   "execution_count": 64,
   "metadata": {},
   "outputs": [
    {
     "data": {
      "text/plain": [
       "'iade y twe tir ess an uniade y treise. T'"
      ]
     },
     "execution_count": 64,
     "metadata": {},
     "output_type": "execute_result"
    }
   ],
   "source": [
    "generated_text"
   ]
  },
  {
   "cell_type": "code",
   "execution_count": 65,
   "metadata": {},
   "outputs": [
    {
     "name": "stdout",
     "output_type": "stream",
     "text": [
      "Translation:  of two country is an merger of power \n"
     ]
    }
   ],
   "source": [
    "translator_dict = dict(zip(translation['elder_speech'], translation['english']))\n",
    "\n",
    "print('Translation:', \" \".join(translator_dict.get(elder_word, '') for elder_word in generated_text.replace('.', '').split()))  "
   ]
  }
 ],
 "metadata": {
  "kernelspec": {
   "display_name": "Python 3 (ipykernel)",
   "language": "python",
   "name": "python3"
  },
  "language_info": {
   "codemirror_mode": {
    "name": "ipython",
    "version": 3
   },
   "file_extension": ".py",
   "mimetype": "text/x-python",
   "name": "python",
   "nbconvert_exporter": "python",
   "pygments_lexer": "ipython3",
   "version": "3.11.3"
  },
  "orig_nbformat": 4
 },
 "nbformat": 4,
 "nbformat_minor": 2
}
