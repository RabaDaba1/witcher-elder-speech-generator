{
 "cells": [
  {
   "cell_type": "markdown",
   "metadata": {},
   "source": [
    "## Import libraries\n",
    "***"
   ]
  },
  {
   "cell_type": "code",
   "execution_count": 1,
   "metadata": {},
   "outputs": [],
   "source": [
    "import numpy as np\n",
    "import pandas as pd\n",
    "import tensorflow as tf\n",
    "from tqdm import tqdm"
   ]
  },
  {
   "cell_type": "markdown",
   "metadata": {},
   "source": [
    "## Load data\n",
    "***"
   ]
  },
  {
   "cell_type": "code",
   "execution_count": 2,
   "metadata": {},
   "outputs": [],
   "source": [
    "translation = pd.read_csv('data/elder_speech.csv')\n",
    "sentences = pd.read_csv('data/sentences.csv')"
   ]
  },
  {
   "cell_type": "code",
   "execution_count": 3,
   "metadata": {},
   "outputs": [
    {
     "data": {
      "text/html": [
       "<div>\n",
       "<style scoped>\n",
       "    .dataframe tbody tr th:only-of-type {\n",
       "        vertical-align: middle;\n",
       "    }\n",
       "\n",
       "    .dataframe tbody tr th {\n",
       "        vertical-align: top;\n",
       "    }\n",
       "\n",
       "    .dataframe thead th {\n",
       "        text-align: right;\n",
       "    }\n",
       "</style>\n",
       "<table border=\"1\" class=\"dataframe\">\n",
       "  <thead>\n",
       "    <tr style=\"text-align: right;\">\n",
       "      <th></th>\n",
       "      <th>elder_speech</th>\n",
       "      <th>english</th>\n",
       "    </tr>\n",
       "  </thead>\n",
       "  <tbody>\n",
       "    <tr>\n",
       "      <th>0</th>\n",
       "      <td>Aé esse aecáemm taedh.</td>\n",
       "      <td>I will follow you.</td>\n",
       "    </tr>\n",
       "    <tr>\n",
       "      <th>1</th>\n",
       "      <td>Caed ess cáelm an hlaith ess elaine.</td>\n",
       "      <td>The forest is peaceful and the lady is beautiful.</td>\n",
       "    </tr>\n",
       "    <tr>\n",
       "      <th>2</th>\n",
       "      <td>Aevon ess cáelm.</td>\n",
       "      <td>The river is calm.</td>\n",
       "    </tr>\n",
       "    <tr>\n",
       "      <th>3</th>\n",
       "      <td>Aé mire gwyn blath.</td>\n",
       "      <td>I see the white flower.</td>\n",
       "    </tr>\n",
       "    <tr>\n",
       "      <th>4</th>\n",
       "      <td>An luned ess og.</td>\n",
       "      <td>A girl is young.</td>\n",
       "    </tr>\n",
       "  </tbody>\n",
       "</table>\n",
       "</div>"
      ],
      "text/plain": [
       "                           elder_speech  \\\n",
       "0                Aé esse aecáemm taedh.   \n",
       "1  Caed ess cáelm an hlaith ess elaine.   \n",
       "2                      Aevon ess cáelm.   \n",
       "3                   Aé mire gwyn blath.   \n",
       "4                      An luned ess og.   \n",
       "\n",
       "                                             english  \n",
       "0                                 I will follow you.  \n",
       "1  The forest is peaceful and the lady is beautiful.  \n",
       "2                                 The river is calm.  \n",
       "3                            I see the white flower.  \n",
       "4                                   A girl is young.  "
      ]
     },
     "execution_count": 3,
     "metadata": {},
     "output_type": "execute_result"
    }
   ],
   "source": [
    "sentences.head()"
   ]
  },
  {
   "cell_type": "code",
   "execution_count": 4,
   "metadata": {},
   "outputs": [],
   "source": [
    "elder_speech = sentences['elder_speech']"
   ]
  },
  {
   "cell_type": "markdown",
   "metadata": {},
   "source": [
    "## Preprocess\n",
    "***"
   ]
  },
  {
   "cell_type": "code",
   "execution_count": 5,
   "metadata": {},
   "outputs": [],
   "source": [
    "# Get unique characters\n",
    "characters = list(set(elder_speech.apply(lambda sentence: list(sentence)).sum()))\n",
    "vocab_size = len(characters)"
   ]
  },
  {
   "cell_type": "code",
   "execution_count": 6,
   "metadata": {},
   "outputs": [
    {
     "data": {
      "text/plain": [
       "51"
      ]
     },
     "execution_count": 6,
     "metadata": {},
     "output_type": "execute_result"
    }
   ],
   "source": [
    "vocab_size"
   ]
  },
  {
   "cell_type": "code",
   "execution_count": 7,
   "metadata": {},
   "outputs": [],
   "source": [
    "# Tokenize characters\n",
    "MAX_SEQENCE_LENGTH = elder_speech.apply(lambda sentence: len(sentence)).max()\n",
    "\n",
    "sequences = []\n",
    "for sentence in elder_speech.values:\n",
    "    sequence = []\n",
    "    for character in sentence:\n",
    "        sequence.append(characters.index(character))\n",
    "    sequences.append(sequence)"
   ]
  },
  {
   "cell_type": "code",
   "execution_count": 8,
   "metadata": {},
   "outputs": [
    {
     "data": {
      "text/plain": [
       "[21,\n",
       " 40,\n",
       " 50,\n",
       " 22,\n",
       " 36,\n",
       " 36,\n",
       " 22,\n",
       " 50,\n",
       " 9,\n",
       " 22,\n",
       " 19,\n",
       " 23,\n",
       " 22,\n",
       " 24,\n",
       " 24,\n",
       " 50,\n",
       " 15,\n",
       " 9,\n",
       " 22,\n",
       " 2,\n",
       " 11,\n",
       " 17]"
      ]
     },
     "execution_count": 8,
     "metadata": {},
     "output_type": "execute_result"
    }
   ],
   "source": [
    "sequences[0]"
   ]
  },
  {
   "cell_type": "code",
   "execution_count": 9,
   "metadata": {},
   "outputs": [],
   "source": [
    "# Create n-gram sequences\n",
    "n_gram_sequences = []\n",
    "for sequence in sequences:\n",
    "    for i in range(len(sequence)-1):\n",
    "        n_gram_sequences.append(sequence[:i+2])"
   ]
  },
  {
   "cell_type": "code",
   "execution_count": 10,
   "metadata": {},
   "outputs": [],
   "source": [
    "# Pad sequences\n",
    "padded_sequences = tf.keras.preprocessing.sequence.pad_sequences(n_gram_sequences, maxlen=MAX_SEQENCE_LENGTH, padding='pre')"
   ]
  },
  {
   "cell_type": "code",
   "execution_count": 11,
   "metadata": {},
   "outputs": [
    {
     "data": {
      "text/plain": [
       "(3047, 131)"
      ]
     },
     "execution_count": 11,
     "metadata": {},
     "output_type": "execute_result"
    }
   ],
   "source": [
    "padded_sequences.shape"
   ]
  },
  {
   "cell_type": "code",
   "execution_count": 12,
   "metadata": {},
   "outputs": [
    {
     "data": {
      "text/plain": [
       "array([[ 0,  0,  0,  0,  0,  0,  0,  0,  0,  0,  0,  0,  0,  0,  0,  0,\n",
       "         0,  0,  0,  0,  0,  0,  0,  0,  0,  0,  0,  0,  0,  0,  0,  0,\n",
       "         0,  0,  0,  0,  0,  0,  0,  0,  0,  0,  0,  0,  0,  0,  0,  0,\n",
       "         0,  0,  0,  0,  0,  0,  0,  0,  0,  0,  0,  0,  0,  0,  0,  0,\n",
       "         0,  0,  0,  0,  0,  0,  0,  0,  0,  0,  0,  0,  0,  0,  0,  0,\n",
       "         0,  0,  0,  0,  0,  0,  0,  0,  0,  0,  0,  0,  0,  0,  0,  0,\n",
       "         0,  0,  0,  0,  0,  0,  0,  0,  0,  0,  0,  0,  0,  0,  0,  0,\n",
       "         0,  0,  0,  0,  0,  0,  0,  0,  0,  0,  0,  0,  0,  0,  0,  0,\n",
       "         0, 21, 40],\n",
       "       [ 0,  0,  0,  0,  0,  0,  0,  0,  0,  0,  0,  0,  0,  0,  0,  0,\n",
       "         0,  0,  0,  0,  0,  0,  0,  0,  0,  0,  0,  0,  0,  0,  0,  0,\n",
       "         0,  0,  0,  0,  0,  0,  0,  0,  0,  0,  0,  0,  0,  0,  0,  0,\n",
       "         0,  0,  0,  0,  0,  0,  0,  0,  0,  0,  0,  0,  0,  0,  0,  0,\n",
       "         0,  0,  0,  0,  0,  0,  0,  0,  0,  0,  0,  0,  0,  0,  0,  0,\n",
       "         0,  0,  0,  0,  0,  0,  0,  0,  0,  0,  0,  0,  0,  0,  0,  0,\n",
       "         0,  0,  0,  0,  0,  0,  0,  0,  0,  0,  0,  0,  0,  0,  0,  0,\n",
       "         0,  0,  0,  0,  0,  0,  0,  0,  0,  0,  0,  0,  0,  0,  0,  0,\n",
       "        21, 40, 50],\n",
       "       [ 0,  0,  0,  0,  0,  0,  0,  0,  0,  0,  0,  0,  0,  0,  0,  0,\n",
       "         0,  0,  0,  0,  0,  0,  0,  0,  0,  0,  0,  0,  0,  0,  0,  0,\n",
       "         0,  0,  0,  0,  0,  0,  0,  0,  0,  0,  0,  0,  0,  0,  0,  0,\n",
       "         0,  0,  0,  0,  0,  0,  0,  0,  0,  0,  0,  0,  0,  0,  0,  0,\n",
       "         0,  0,  0,  0,  0,  0,  0,  0,  0,  0,  0,  0,  0,  0,  0,  0,\n",
       "         0,  0,  0,  0,  0,  0,  0,  0,  0,  0,  0,  0,  0,  0,  0,  0,\n",
       "         0,  0,  0,  0,  0,  0,  0,  0,  0,  0,  0,  0,  0,  0,  0,  0,\n",
       "         0,  0,  0,  0,  0,  0,  0,  0,  0,  0,  0,  0,  0,  0,  0, 21,\n",
       "        40, 50, 22]], dtype=int32)"
      ]
     },
     "execution_count": 12,
     "metadata": {},
     "output_type": "execute_result"
    }
   ],
   "source": [
    "padded_sequences[:3]"
   ]
  },
  {
   "cell_type": "markdown",
   "metadata": {},
   "source": [
    "## Model\n",
    "***"
   ]
  },
  {
   "cell_type": "code",
   "execution_count": 13,
   "metadata": {},
   "outputs": [],
   "source": [
    "X_train = padded_sequences[:, :-1]\n",
    "y_train = tf.keras.utils.to_categorical(padded_sequences[:, -1], num_classes=vocab_size)"
   ]
  },
  {
   "cell_type": "code",
   "execution_count": 182,
   "metadata": {},
   "outputs": [],
   "source": [
    "# Input layer\n",
    "inputs = tf.keras.layers.Input(shape=(MAX_SEQENCE_LENGTH-1,))\n",
    "\n",
    "# Embedding layer\n",
    "x = tf.keras.layers.Embedding(vocab_size, 300, input_length=MAX_SEQENCE_LENGTH-1)(inputs)\n",
    "\n",
    "# LSTM block 1\n",
    "x = tf.keras.layers.Bidirectional(tf.keras.layers.LSTM(128, return_sequences=True))(x)\n",
    "x = tf.keras.layers.Dropout(0.2)(x)\n",
    "x = tf.keras.layers.LayerNormalization()(x)\n",
    "\n",
    "# LSTM block 2\n",
    "x = tf.keras.layers.Bidirectional(tf.keras.layers.LSTM(128))(x)\n",
    "x = tf.keras.layers.Dropout(0.2)(x)\n",
    "x = tf.keras.layers.LayerNormalization()(x)\n",
    "\n",
    "# Softmax output layer\n",
    "output = tf.keras.layers.Dense(vocab_size, activation='softmax')(x)\n",
    "\n",
    "# Model\n",
    "model = tf.keras.Model(inputs=inputs, outputs=output)"
   ]
  },
  {
   "cell_type": "code",
   "execution_count": 168,
   "metadata": {},
   "outputs": [],
   "source": [
    "model.compile(loss='categorical_crossentropy', optimizer='adam', metrics=['accuracy'])"
   ]
  },
  {
   "cell_type": "code",
   "execution_count": 169,
   "metadata": {},
   "outputs": [
    {
     "name": "stdout",
     "output_type": "stream",
     "text": [
      "Epoch 1/30\n",
      "24/24 [==============================] - 4s 24ms/step - loss: 3.2085 - accuracy: 0.1680\n",
      "Epoch 2/30\n",
      "24/24 [==============================] - 1s 23ms/step - loss: 2.7133 - accuracy: 0.2717\n",
      "Epoch 3/30\n",
      "24/24 [==============================] - 1s 24ms/step - loss: 2.4391 - accuracy: 0.3423\n",
      "Epoch 4/30\n",
      "24/24 [==============================] - 1s 23ms/step - loss: 2.2541 - accuracy: 0.3682\n",
      "Epoch 5/30\n",
      "24/24 [==============================] - 1s 23ms/step - loss: 2.0546 - accuracy: 0.4171\n",
      "Epoch 6/30\n",
      "24/24 [==============================] - 1s 23ms/step - loss: 1.8941 - accuracy: 0.4559\n",
      "Epoch 7/30\n",
      "24/24 [==============================] - 1s 23ms/step - loss: 1.7273 - accuracy: 0.4949\n",
      "Epoch 8/30\n",
      "24/24 [==============================] - 1s 23ms/step - loss: 1.5665 - accuracy: 0.5294\n",
      "Epoch 9/30\n",
      "24/24 [==============================] - 1s 24ms/step - loss: 1.4679 - accuracy: 0.5674\n",
      "Epoch 10/30\n",
      "24/24 [==============================] - 1s 23ms/step - loss: 1.3284 - accuracy: 0.6029\n",
      "Epoch 11/30\n",
      "24/24 [==============================] - 1s 23ms/step - loss: 1.2436 - accuracy: 0.6245\n",
      "Epoch 12/30\n",
      "24/24 [==============================] - 1s 24ms/step - loss: 1.1293 - accuracy: 0.6567\n",
      "Epoch 13/30\n",
      "24/24 [==============================] - 1s 23ms/step - loss: 1.0306 - accuracy: 0.6859\n",
      "Epoch 14/30\n",
      "24/24 [==============================] - 1s 23ms/step - loss: 0.9502 - accuracy: 0.7122\n",
      "Epoch 15/30\n",
      "24/24 [==============================] - 1s 23ms/step - loss: 0.8653 - accuracy: 0.7466\n",
      "Epoch 16/30\n",
      "24/24 [==============================] - 1s 23ms/step - loss: 0.7930 - accuracy: 0.7680\n",
      "Epoch 17/30\n",
      "24/24 [==============================] - 1s 23ms/step - loss: 0.7515 - accuracy: 0.7778\n",
      "Epoch 18/30\n",
      "24/24 [==============================] - 1s 23ms/step - loss: 0.6658 - accuracy: 0.8074\n",
      "Epoch 19/30\n",
      "24/24 [==============================] - 1s 23ms/step - loss: 0.6196 - accuracy: 0.8179\n",
      "Epoch 20/30\n",
      "24/24 [==============================] - 1s 23ms/step - loss: 0.5852 - accuracy: 0.8238\n",
      "Epoch 21/30\n",
      "24/24 [==============================] - 1s 23ms/step - loss: 0.5353 - accuracy: 0.8382\n",
      "Epoch 22/30\n",
      "24/24 [==============================] - 1s 23ms/step - loss: 0.4909 - accuracy: 0.8533\n",
      "Epoch 23/30\n",
      "24/24 [==============================] - 1s 23ms/step - loss: 0.4460 - accuracy: 0.8730\n",
      "Epoch 24/30\n",
      "24/24 [==============================] - 1s 23ms/step - loss: 0.4148 - accuracy: 0.8753\n",
      "Epoch 25/30\n",
      "24/24 [==============================] - 1s 23ms/step - loss: 0.3796 - accuracy: 0.8920\n",
      "Epoch 26/30\n",
      "24/24 [==============================] - 1s 23ms/step - loss: 0.3517 - accuracy: 0.9035\n",
      "Epoch 27/30\n",
      "24/24 [==============================] - 1s 23ms/step - loss: 0.3379 - accuracy: 0.9065\n",
      "Epoch 28/30\n",
      "24/24 [==============================] - 1s 23ms/step - loss: 0.3333 - accuracy: 0.9048\n",
      "Epoch 29/30\n",
      "24/24 [==============================] - 1s 23ms/step - loss: 0.3251 - accuracy: 0.8989\n",
      "Epoch 30/30\n",
      "24/24 [==============================] - 1s 24ms/step - loss: 0.2909 - accuracy: 0.9180\n"
     ]
    },
    {
     "data": {
      "text/plain": [
       "<keras.callbacks.History at 0x7fcc011c4d30>"
      ]
     },
     "execution_count": 169,
     "metadata": {},
     "output_type": "execute_result"
    }
   ],
   "source": [
    "model.fit(X_train, y_train, epochs=30, batch_size=128, verbose=1)"
   ]
  },
  {
   "cell_type": "markdown",
   "metadata": {},
   "source": [
    "## Generate the Elder Speech\n",
    "***"
   ]
  },
  {
   "cell_type": "code",
   "execution_count": 170,
   "metadata": {},
   "outputs": [],
   "source": [
    "def generate_text(text_start, name_len):\n",
    "    \"\"\"Generates Elder Speech of desired length and starting letters.\"\"\"\n",
    "    sequence = [0] * (MAX_SEQENCE_LENGTH-len(text_start)) + [characters.index(c) for c in text_start]\n",
    "    text = text_start\n",
    "\n",
    "    for i in tqdm(range(name_len)):\n",
    "        prediction = model.predict(\n",
    "            np.reshape(sequence[-MAX_SEQENCE_LENGTH+1:], (1, MAX_SEQENCE_LENGTH-1)), # current_sequence is of shape (MAXSEQLEN, ) and input to the model must be of shape (n, MAXSEQLEN-1), n - is a batch size. We want to predict only 1 exaple so batch size is 1.\n",
    "            verbose=0\n",
    "        )\n",
    "        prediction = np.random.choice(range(vocab_size), p=prediction.ravel()) # Pick a number from [0, vocab_size) using probability distribution of a softmax output so that our output isn't the same all the time\n",
    "\n",
    "        text += characters[prediction]\n",
    "\n",
    "        sequence.append(prediction)\n",
    "        \n",
    "    return text"
   ]
  },
  {
   "cell_type": "code",
   "execution_count": 180,
   "metadata": {},
   "outputs": [
    {
     "name": "stderr",
     "output_type": "stream",
     "text": [
      "100%|██████████| 40/40 [00:01<00:00, 27.98it/s]\n"
     ]
    },
    {
     "data": {
      "text/plain": [
       "\"Ceádmil vatt'ghern nau aé mire aen an blathanan\""
      ]
     },
     "execution_count": 180,
     "metadata": {},
     "output_type": "execute_result"
    }
   ],
   "source": [
    "generated_text = generate_text('Ceádmil', 40)\n",
    "generated_text"
   ]
  },
  {
   "cell_type": "code",
   "execution_count": 181,
   "metadata": {},
   "outputs": [
    {
     "name": "stdout",
     "output_type": "stream",
     "text": [
      "Translation: greetings witcher I observe as an \n"
     ]
    }
   ],
   "source": [
    "translator_dict = dict(zip(translation['elder_speech'], translation['english']))\n",
    "\n",
    "# Replace multiple spaces with one\n",
    "print('Translation:', \" \".join(translator_dict.get(elder_word, '') for elder_word in generated_text.lower().replace('.', '').split()).replace('  ', ' '))  "
   ]
  }
 ],
 "metadata": {
  "kernelspec": {
   "display_name": "Python 3 (ipykernel)",
   "language": "python",
   "name": "python3"
  },
  "language_info": {
   "codemirror_mode": {
    "name": "ipython",
    "version": 3
   },
   "file_extension": ".py",
   "mimetype": "text/x-python",
   "name": "python",
   "nbconvert_exporter": "python",
   "pygments_lexer": "ipython3",
   "version": "3.9.16"
  },
  "orig_nbformat": 4
 },
 "nbformat": 4,
 "nbformat_minor": 2
}
